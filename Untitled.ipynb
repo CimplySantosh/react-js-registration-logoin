{
 "cells": [
  {
   "cell_type": "markdown",
   "id": "164b2fcd",
   "metadata": {},
   "source": [
    "1.   Write a Python program to get a string made of the first 2 and the last 2 chars from a given a string."
   ]
  },
  {
   "cell_type": "code",
   "execution_count": 13,
   "id": "2d71e64d",
   "metadata": {},
   "outputs": [
    {
     "name": "stdout",
     "output_type": "stream",
     "text": [
      "12 90 daf 89\n",
      "1289\n"
     ]
    }
   ],
   "source": [
    "i_v = input()\n",
    "\n",
    "f_v = i_v[:2]+i_v[-2:]\n",
    "\n",
    "print(f_v)"
   ]
  },
  {
   "cell_type": "markdown",
   "id": "5c516289",
   "metadata": {},
   "source": [
    "2.   Write a Python program to get a single string from two given strings, separated by a space and swap the first two characters of each string."
   ]
  },
  {
   "cell_type": "code",
   "execution_count": 18,
   "id": "4b49c17e",
   "metadata": {},
   "outputs": [
    {
     "name": "stdout",
     "output_type": "stream",
     "text": [
      "santosh Prakash\n",
      "Prntosh saakash\n"
     ]
    }
   ],
   "source": [
    "s = input().split()\n",
    "\n",
    "f = s[1][:2]+s[0][2:]+\" \"+ s[0][:2]+s[1][2:]\n",
    "\n",
    "print(f)"
   ]
  },
  {
   "cell_type": "markdown",
   "id": "4384fc3e",
   "metadata": {},
   "source": [
    "3.   Write a Python program to find the first appearance of the substring 'not' and 'poor' from a given string."
   ]
  },
  {
   "cell_type": "code",
   "execution_count": 22,
   "id": "a9604ac0",
   "metadata": {},
   "outputs": [
    {
     "name": "stdout",
     "output_type": "stream",
     "text": [
      "hello is not a poor person\n",
      "9\n",
      "15\n"
     ]
    }
   ],
   "source": [
    "value = input()\n",
    "\n",
    "f_not =  value.index(\"not\")\n",
    "f_poor = value.index(\"poor\")\n",
    "print(f_not)\n",
    "print(f_poor)\n",
    "\n",
    " "
   ]
  },
  {
   "cell_type": "markdown",
   "id": "970f6898",
   "metadata": {},
   "source": [
    "4.   Write a Python program to count the occurrences of a word in a given sentence"
   ]
  },
  {
   "cell_type": "code",
   "execution_count": 32,
   "id": "0214c81d",
   "metadata": {},
   "outputs": [
    {
     "name": "stdout",
     "output_type": "stream",
     "text": [
      "sa sa s s a a a s p\n",
      "a :3\n",
      "p :1\n",
      "s :3\n",
      "sa :2\n"
     ]
    }
   ],
   "source": [
    "a = input().split()\n",
    "new_set = set(a)\n",
    "sorted_list = sorted(new_set)\n",
    "\n",
    "for i in sorted_list:\n",
    "    print(\"{} :{}\".format(i,a.count(i)))"
   ]
  },
  {
   "cell_type": "markdown",
   "id": "965061b5",
   "metadata": {},
   "source": [
    "5.   Write a Python program that accepts a comma separated sequence of words as input and prints the unique words in sorted form (alphanumerically)."
   ]
  },
  {
   "cell_type": "code",
   "execution_count": 34,
   "id": "509d9642",
   "metadata": {},
   "outputs": [
    {
     "name": "stdout",
     "output_type": "stream",
     "text": [
      "s,as,s,p,p,2,2,23,w\n",
      "['2', '23', 'as', 'p', 's', 'w']\n"
     ]
    }
   ],
   "source": [
    "i_v = input().split(\",\")\n",
    "\n",
    "sorted_i_v = sorted(set(i_v))\n",
    "\n",
    "print(sorted_i_v)"
   ]
  },
  {
   "cell_type": "markdown",
   "id": "1cf49191",
   "metadata": {},
   "source": [
    "6.   Write a Python program to insert a string in the middle of a string.\n"
   ]
  },
  {
   "cell_type": "code",
   "execution_count": 40,
   "id": "9cc1ed84",
   "metadata": {},
   "outputs": [
    {
     "name": "stdout",
     "output_type": "stream",
     "text": [
      "Enter last and First name : santosh naidu\n",
      "enter middle name : prakash\n",
      "santosh prakash naidu \n"
     ]
    }
   ],
   "source": [
    "import math as m\n",
    "i_v = input(\"Enter last and First name : \").split()\n",
    "\n",
    "inset_string = input(\"enter middle name : \")\n",
    "\n",
    "output = \"\"\n",
    "\n",
    "if len(i_v)%2 == 0:\n",
    "    s = m.floor(len(i_v)/2)\n",
    "    final = i_v.insert(s,inset_string)\n",
    "\n",
    "else:\n",
    "    s = m.ceil(len(i_v)/2)\n",
    "    final = i_v.insert(s,inset_string)\n",
    "    \n",
    "for i in i_v:\n",
    "    output = output+i+\" \"\n",
    "    \n",
    "print(output)"
   ]
  },
  {
   "cell_type": "code",
   "execution_count": 41,
   "id": "3ceca0ee",
   "metadata": {},
   "outputs": [
    {
     "name": "stdout",
     "output_type": "stream",
     "text": [
      "santosh\n",
      "prakash\n",
      "san prakash tosh\n"
     ]
    }
   ],
   "source": [
    "word=input()\n",
    "inserted=input()\n",
    "length=len(word)//2\n",
    "print(word[:length]+\" \"+inserted+\" \"+word[length:])"
   ]
  },
  {
   "cell_type": "markdown",
   "id": "f2c66891",
   "metadata": {},
   "source": [
    "7.   Write a Python program to convert the first letter of each word in given string to uppercase.\n"
   ]
  },
  {
   "cell_type": "code",
   "execution_count": 50,
   "id": "6e30726a",
   "metadata": {},
   "outputs": [
    {
     "name": "stdout",
     "output_type": "stream",
     "text": [
      "santosh prakash naidu\n",
      "Santosh Prakash Naidu \n"
     ]
    }
   ],
   "source": [
    "f_l = input().lower().split()\n",
    "out = \"\"\n",
    "for i in f_l:\n",
    "    s = i.capitalize()\n",
    "    out = out+s+\" \"\n",
    "print(out)"
   ]
  },
  {
   "cell_type": "markdown",
   "id": "3a4cbe82",
   "metadata": {},
   "source": [
    "8.   Write a Python program to check whether a string starts with specified characters"
   ]
  },
  {
   "cell_type": "code",
   "execution_count": 52,
   "id": "26abe757",
   "metadata": {},
   "outputs": [
    {
     "name": "stdout",
     "output_type": "stream",
     "text": [
      "Enter string Value : santosh\n",
      "Enter charater to check : s\n",
      "True\n"
     ]
    }
   ],
   "source": [
    "s_v = input(\"Enter string Value : \")\n",
    "c_v = input(\"Enter charater to check : \")\n",
    "\n",
    "out = s_v.startswith(c_v)\n",
    "\n",
    "print(out)\n"
   ]
  },
  {
   "cell_type": "markdown",
   "id": "f6187bae",
   "metadata": {},
   "source": [
    "9.   Write a Python program to remove duplicates from a list."
   ]
  },
  {
   "cell_type": "code",
   "execution_count": 56,
   "id": "35e1c89c",
   "metadata": {},
   "outputs": [
    {
     "name": "stdout",
     "output_type": "stream",
     "text": [
      "s,a,e,w,s,s,a,e,1,1,2,3,2\n",
      "['s', 'a', 'e', 'w', '1', '2', '3']\n"
     ]
    }
   ],
   "source": [
    "i_list = list(input().split(\",\"))\n",
    "list_new = []\n",
    "for i in i_list:\n",
    "    if i not in list_new:\n",
    "        list_new.append(i)\n",
    "print(list_new)\n"
   ]
  },
  {
   "cell_type": "markdown",
   "id": "152dd519",
   "metadata": {},
   "source": [
    "10.  Write a Python program to check a list is empty or not."
   ]
  },
  {
   "cell_type": "code",
   "execution_count": 60,
   "id": "8987d935",
   "metadata": {},
   "outputs": [
    {
     "name": "stdout",
     "output_type": "stream",
     "text": [
      "\n",
      "Empty\n",
      "[]\n"
     ]
    }
   ],
   "source": [
    "c_l = list(input().split())\n",
    "\n",
    "if c_l == []:\n",
    "    print(\"Empty\")\n",
    "else:\n",
    "    print(\"Not Empty\")\n",
    "print(c_l)\n"
   ]
  },
  {
   "cell_type": "markdown",
   "id": "f5efa73f",
   "metadata": {},
   "source": [
    "\n",
    "11.  Write a Python program to print a specified list after removing the 0th, 4th and 5th elements. Sample List : ['Red', 'Green', 'White', 'Black', 'Pink', 'Yellow'] Expected Output : ['Green', 'White', 'Black']"
   ]
  },
  {
   "cell_type": "code",
   "execution_count": 62,
   "id": "c5a21adf",
   "metadata": {},
   "outputs": [
    {
     "name": "stdout",
     "output_type": "stream",
     "text": [
      "['Green', 'White', 'Black']\n"
     ]
    }
   ],
   "source": [
    "Sample_List = ['Red', 'Green', 'White', 'Black', 'Pink', 'Yellow']\n",
    "s = Sample_List[1:4]\n",
    "print(s)"
   ]
  },
  {
   "cell_type": "markdown",
   "id": "4fab0f70",
   "metadata": {},
   "source": [
    "12.  Write a Python program to get the difference between the two lists."
   ]
  },
  {
   "cell_type": "code",
   "execution_count": 76,
   "id": "9cf7366a",
   "metadata": {},
   "outputs": [
    {
     "name": "stdout",
     "output_type": "stream",
     "text": [
      "1 2 3\n",
      "3 2 1\n",
      "[-2, 0, 2]\n"
     ]
    }
   ],
   "source": [
    "f_list = list(input().split())\n",
    "s_list = list(input().split())\n",
    "o_list = []\n",
    "if len(f_list) == len(s_list):\n",
    "    for i in range(0,len(f_list)):\n",
    "        s = int(f_list[i])-int(s_list[i])\n",
    "        o_list.append(s)\n",
    "else:\n",
    "    print(\"Entered lists are not equal\")\n",
    "print(o_list)"
   ]
  },
  {
   "cell_type": "markdown",
   "id": "69c181b7",
   "metadata": {},
   "source": [
    "13.  Write a Python program to replace the last element in a list with another list."
   ]
  },
  {
   "cell_type": "code",
   "execution_count": 77,
   "id": "506c142d",
   "metadata": {},
   "outputs": [
    {
     "name": "stdout",
     "output_type": "stream",
     "text": [
      "1 2 3\n",
      "12 2 3\n",
      "['1', '2', '12', '2', '3']\n"
     ]
    }
   ],
   "source": [
    "f_list = list(input().split())\n",
    "s_list = list(input().split())\n",
    "\n",
    "f_list[-1:] = s_list\n",
    "\n",
    "print(f_list)"
   ]
  },
  {
   "cell_type": "markdown",
   "id": "90cc1b67",
   "metadata": {},
   "source": [
    "\n",
    "14.  Write a Python program to check if all items of a list is equal to a given string."
   ]
  },
  {
   "cell_type": "code",
   "execution_count": null,
   "id": "a102f90c",
   "metadata": {},
   "outputs": [],
   "source": []
  }
 ],
 "metadata": {
  "kernelspec": {
   "display_name": "Python 3",
   "language": "python",
   "name": "python3"
  },
  "language_info": {
   "codemirror_mode": {
    "name": "ipython",
    "version": 3
   },
   "file_extension": ".py",
   "mimetype": "text/x-python",
   "name": "python",
   "nbconvert_exporter": "python",
   "pygments_lexer": "ipython3",
   "version": "3.8.8"
  }
 },
 "nbformat": 4,
 "nbformat_minor": 5
}
